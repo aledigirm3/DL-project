{
 "cells": [
  {
   "cell_type": "code",
   "execution_count": 2,
   "metadata": {},
   "outputs": [],
   "source": [
    "import pandas as pd\n",
    "import os\n",
    "import re\n",
    "import sys"
   ]
  },
  {
   "cell_type": "code",
   "execution_count": 3,
   "metadata": {},
   "outputs": [],
   "source": [
    "\n",
    "dataset_folder = './dataset/'\n",
    "files_csv = [f for f in os.listdir(dataset_folder) if f.endswith('.csv')]\n",
    "\n",
    "for file in files_csv:\n",
    "    \n",
    "    if file.startswith('bachata'):\n",
    "        label = 1\n",
    "    elif file.startswith('salsa'):\n",
    "        label = 0\n",
    "    else:\n",
    "        continue\n",
    "\n",
    "    f = os.path.join(dataset_folder, file)\n",
    "\n",
    "    df = pd.read_csv(f)\n",
    "\n",
    "    selected_columns = df.filter(regex='(_x|_y)$').columns.tolist()\n",
    "    df_filtered = df[selected_columns]\n",
    "\n",
    "    row_dict = {}\n",
    "    data = []\n",
    "\n",
    "    for index, row in df_filtered.iterrows():\n",
    "        for col_name, value in row.items():\n",
    "            \n",
    "            match = re.search(r'f(\\d+)', col_name)\n",
    "            frame = match.group(1)\n",
    "            if (col_name.endswith(\"kp1_x\")):\n",
    "\n",
    "                row_dict['track_id'] = index\n",
    "                row_dict['frame'] = frame\n",
    "                row_dict[re.sub(r'f\\d+_', '', col_name)] = float(value)\n",
    "\n",
    "            elif (col_name.endswith(\"kp17_y\")):\n",
    "\n",
    "                if row_dict:\n",
    "                    row_dict[re.sub(r'f\\d+_', '', col_name)] = float(value)\n",
    "                    row_dict['label'] = label\n",
    "                    data.append(row_dict)\n",
    "                    row_dict = {}\n",
    "                \n",
    "            \n",
    "            else:\n",
    "\n",
    "                row_dict[re.sub(r'f\\d+_', '', col_name)] = float(value)\n",
    "\n",
    "    df = pd.DataFrame(data)\n",
    "    df.to_csv('./processedDataset/' + file, index=False)\n",
    "\n"
   ]
  }
 ],
 "metadata": {
  "kernelspec": {
   "display_name": "base",
   "language": "python",
   "name": "python3"
  },
  "language_info": {
   "codemirror_mode": {
    "name": "ipython",
    "version": 3
   },
   "file_extension": ".py",
   "mimetype": "text/x-python",
   "name": "python",
   "nbconvert_exporter": "python",
   "pygments_lexer": "ipython3",
   "version": "3.12.3"
  }
 },
 "nbformat": 4,
 "nbformat_minor": 2
}
